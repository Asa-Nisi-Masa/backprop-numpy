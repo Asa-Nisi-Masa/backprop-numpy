{
 "cells": [
  {
   "cell_type": "markdown",
   "metadata": {},
   "source": [
    "![](network.png)"
   ]
  },
  {
   "cell_type": "markdown",
   "metadata": {},
   "source": [
    "### Matrix/vector dimensions\n",
    "\n",
    "$$k\\text{-th layer size (number of neurons)}: [D_k \\times 1]$$\n",
    "\n",
    "$$\\text{input: }[x] = [D_0 \\times 1],$$\n",
    "\n",
    "$$\\text{output: }[y] = [z^L] = [D_L \\times 1],$$\n",
    "\n",
    "$$\\text{k-th layer weight matrix: }[W^k] = [D_k \\times D_{k-1}],$$\n",
    "\n",
    "$$\\text{k-th layer bias: }[b^k] = [D_k \\times 1].$$"
   ]
  },
  {
   "cell_type": "markdown",
   "metadata": {},
   "source": [
    "### Forward propagation equations:\n",
    "\n",
    "Activations of the first hidden layer (for neuron $j$):\n",
    "\n",
    "\n",
    "$$\\begin{equation} a_j^1 = \\sum_{i=1}^{D_0} \\omega_{ji}^1 \\cdot x_i + b_j^1 \\end{equation},$$\n",
    "\n",
    "$$z_j^1 = h(a_j^1),$$\n",
    "\n",
    "$$...$$\n",
    "\n",
    "Activations of the k-th layer:\n",
    "\n",
    "$$a_j^k = \\sum_{i=1}^{D_{k-1}} \\omega_{ji}^k \\cdot z_i^{k-1} + b_j^k,$$\n",
    "\n",
    "$$z_j^k = h(a_j^k),$$\n",
    "\n",
    "$$...$$\n",
    "\n",
    "Activations of the last layer:\n",
    "\n",
    "$$a_j^L = \\sum_{i=1}^{D_{L-1}} \\omega_{ji}^L \\cdot z_i^{L-1} + b_j^L,$$\n",
    "\n",
    "$$z_j^L = h(a_j^L) = h_{\\mathrm{out}}(a_j^L),$$\n",
    "\n",
    "For classification, the final activation $h_{\\mathrm{out}}(a_j^L) = \\log\\left[\\mathrm{softmax}\\left(a_j^L\\right)\\right] = \\log(p)$ is the log of the probability distribution.\n",
    "\n",
    "Cross-entropy loss can be written as $\\mathcal{L} = -\\mathrm{target} \\cdot \\log\\left(p\\right) = -\\mathrm{target}\\cdot z^L$, where $\\mathrm{target}$ is the target probability distribution. Here we take it to be one-hot vector with $t$-th index (target class) set to 1.\n",
    "\n",
    "Loss then becomes: \n",
    "$$\\mathcal{L} = -\\begin{pmatrix}0 & 0 & \\cdots & 1 & 0 & \\cdots & 0\\end{pmatrix} \\cdot z^L = -\\log\\left[\\mathrm{softmax}\\left(a_t^L\\right)\\right] = -a_t^{L} + \\log\\left[\\sum_{j=1}^{D_L}\\exp\\left(a_j^L\\right)\\right] \\tag{$\\star$}$$ (negative log of the predicted probability of the correct class)."
   ]
  },
  {
   "cell_type": "markdown",
   "metadata": {},
   "source": [
    "### Backward propagation equations\n",
    "\n",
    "Define\n",
    "\n",
    "$$\\delta_j^k = \\frac{\\partial \\mathcal{L}}{\\partial a_j^k},$$\n",
    "\n",
    "Then last layer delta:\n",
    "\n",
    "$$\\delta_j^L = -\\mathrm{kronecker}(t, j) + \\mathrm{softmax}\\left(a_j^L\\right),$$\n",
    "\n",
    "Second-to-last layer delta:\n",
    "\n",
    "$$\\delta_j^{L-1} = \\frac{\\partial \\mathcal{L}}{\\partial a_j^{L-1}} = \\sum_{i=1}^{D_L}\\frac{\\partial \\mathcal{L}}{\\partial a_i^{L}} \\cdot \\frac{\\partial a_i^{L}}{\\partial a_j^{L-1}},$$\n",
    "\n",
    "Sum needed, because second-to-last layer $j$-th neuron affects the loss through every last layer neuron. Continuing,\n",
    "\n",
    "$$\\delta_j^{L-1} = \\sum_{i=1}^{D_L} \\delta_i^L h'\\left(a_j^{L-1}\\right)\\cdot \\omega_{ij}^{L},$$\n",
    "\n",
    "Weight gradient for k-th layer:\n",
    "\n",
    "$$\\frac{\\partial \\mathcal{L}}{\\partial{\\omega^k_{ji}}} = \\frac{\\partial \\mathcal{L}}{\\partial{a_j^k}}\\cdot \\frac{\\partial{a_j^k}}{\\partial{\\omega_{ji}^k}} = \\delta_j^k \\cdot h\\left(a_i^{k-1}\\right),$$\n",
    "\n",
    "Bias gradient for k-th layer:\n",
    "\n",
    "$$\\frac{\\partial \\mathcal{L}}{\\partial b^k_j} = \\frac{\\partial \\mathcal{L}}{\\partial{a_j^k}} \\cdot \\frac{\\partial a_j^k}{\\partial b_j^k} = \\delta^k_j.$$"
   ]
  },
  {
   "cell_type": "markdown",
   "metadata": {},
   "source": [
    "### Forward propagation (in matrix form)\n",
    "\n",
    "$$a^k = W^k \\cdot z^{k-1} + b^k, \\qquad a^0 = z^0 = x,$$\n",
    "\n",
    "$$z^k = h(a^k).$$"
   ]
  },
  {
   "cell_type": "markdown",
   "metadata": {},
   "source": [
    "### Backward propagation (in matrix form)\n",
    "\n",
    "$$\\delta^L = \\mathrm{softmax}\\left(a^L\\right) - \\begin{pmatrix}0 & 0 & \\cdots & 0 & 1 & 0 & \\cdots & 0 \\end{pmatrix}^T \\\\ = \\exp\\left(z^L\\right) - \\begin{pmatrix}0 & 0 & \\cdots & 0 & 1 & 0 & \\cdots & 0 \\end{pmatrix}^T \\text{, where only the $t$-th element in the second vector is non-zero.} \\tag{$\\star\\star$}$$\n",
    "\n",
    "$$\\delta^{k-1} = W^k \\cdot \\delta^k \\odot h'\\left(a^{k-1}\\right),$$\n",
    "\n",
    "$$ \\frac{\\partial \\mathcal{L}}{\\partial W^k} = \\delta^k \\cdot h\\left[\\left(a^{k-1}\\right)^T\\right],$$\n",
    "\n",
    "$$ \\frac{\\partial \\mathcal{L}}{\\partial b^k} = \\delta^k.$$"
   ]
  },
  {
   "cell_type": "markdown",
   "metadata": {},
   "source": [
    "### log-sum-exp trick for numeric stability\n",
    "\n",
    "$$\\log\\left[\\sum_j \\exp\\left(a_j\\right)\\right] = c + \\log\\left[\\sum_j \\exp\\left(a_j - c\\right)\\right], \\,\\, \\forall c \\tag{$\\star\\star\\star$}$$"
   ]
  },
  {
   "cell_type": "code",
   "execution_count": 1,
   "metadata": {},
   "outputs": [],
   "source": [
    "import numpy as np\n",
    "from tqdm import tqdm\n",
    "import matplotlib.pyplot as plt\n",
    "from sklearn.datasets import make_blobs, make_moons"
   ]
  },
  {
   "cell_type": "code",
   "execution_count": 2,
   "metadata": {},
   "outputs": [],
   "source": [
    "class Network:\n",
    "    def __init__(self):\n",
    "        \n",
    "        D0 = 2    # input size\n",
    "        D1 = 2    # first hidden layer size\n",
    "        D2 = 3    # second hidden layer size\n",
    "        D3 = 4    # output size\n",
    "        \n",
    "        self.lr = 5e-2    # learning rate\n",
    "        self.EPOCHS = 500\n",
    "        self.BATCH_SIZE = 32\n",
    "        \n",
    "        # weight matrices\n",
    "        self.W1 = np.random.randn(D1, D0) / np.sqrt(D0)\n",
    "        self.W2 = np.random.randn(D2, D1) / np.sqrt(D1)\n",
    "        self.W3 = np.random.randn(D3, D2) / np.sqrt(D2)\n",
    "\n",
    "        # biases\n",
    "        self.b1 = np.random.randn(D1, 1) / np.sqrt(D0)\n",
    "        self.b2 = np.random.randn(D2, 1) / np.sqrt(D1)\n",
    "        self.b3 = np.random.randn(D3, 1) / np.sqrt(D2)\n",
    "        \n",
    "        self.D3 = D3\n",
    "\n",
    "    def h(self, x, layer, derive=False):\n",
    "        \"\"\" activation function \"\"\"\n",
    "        \n",
    "        if layer == \"output\":\n",
    "            # log-softmax\n",
    "            xmax = x.max(axis=0, keepdims=True)\n",
    "            # log-sum-exp trick (equation (***))\n",
    "            return x - xmax - np.log(np.sum(np.exp(x - xmax), axis=0, keepdims=True))\n",
    "\n",
    "        # else, sigmoid\n",
    "        sigma = 1 / ((1 + np.exp(-x)))\n",
    "        if derive:\n",
    "            return sigma*(1 - sigma)\n",
    "\n",
    "        return sigma\n",
    "\n",
    "    def forward(self, x):\n",
    "        x = self.W1.dot(x) + self.b1\n",
    "        x = self.h(x, \"hidden\")\n",
    "        \n",
    "        x = self.W2.dot(x) + self.b2\n",
    "        x = self.h(x, \"hidden\")\n",
    "        \n",
    "        x = self.W3.dot(x) + self.b3\n",
    "        x = self.h(x, \"output\")\n",
    "        \n",
    "        return x\n",
    "    \n",
    "    def compute_loss(self, prediction, target):\n",
    "        \"\"\" categorical cross-entropy\"\"\"\n",
    "        loss = -np.diag(target.T.dot(prediction)) # equation (*)\n",
    "\n",
    "        return np.sum(loss)\n",
    "    \n",
    "    def one_hot(self, labels):\n",
    "        size_batch = len(labels)\n",
    "        onehot = np.zeros((self.D3, size_batch))\n",
    "        onehot[labels, np.arange(size_batch)] = 1\n",
    "\n",
    "        return onehot\n",
    "\n",
    "\n",
    "    def train(self, x_train, y_train, x_test, y_test):\n",
    "        size_train = len(x_train)\n",
    "        size_test = len(x_test)\n",
    "        indices = np.arange(size_train)\n",
    "\n",
    "        loss_train = []\n",
    "        loss_test = []\n",
    "        for _ in tqdm(range(self.EPOCHS), \"training\"):\n",
    "            np.random.shuffle(indices)\n",
    "            x_train = x_train[indices]\n",
    "            y_train = y_train[indices]\n",
    "\n",
    "            epoch_loss = 0\n",
    "            for i in range(0, size_train, self.BATCH_SIZE):\n",
    "                x = x_train[i:i+self.BATCH_SIZE].T\n",
    "                y = y_train[i:i+self.BATCH_SIZE]\n",
    "\n",
    "                # forward propagation\n",
    "                a1 = self.W1.dot(x) + self.b1\n",
    "                z1 = self.h(a1, \"hidden\")\n",
    "\n",
    "                a2 = self.W2.dot(z1) + self.b2\n",
    "                z2 = self.h(a2, \"hidden\")\n",
    "\n",
    "                a3 = self.W3.dot(z2) + self.b3\n",
    "                z3 = self.h(a3, \"output\")\n",
    "                \n",
    "                # onehot is matrix of one-hot vectors for each target sample in the batch\n",
    "                onehot = self.one_hot(y)\n",
    "                epoch_loss += self.compute_loss(z3, onehot)\n",
    "\n",
    "                delta3 = np.exp(z3) - onehot # equation (**)\n",
    "                delta2 = self.W3.T.dot(delta3) * self.h(a2, \"hidden\", derive=True)\n",
    "                delta1 = self.W2.T.dot(delta2) * self.h(a1, \"hidden\", derive=True)\n",
    "\n",
    "                dW3 = delta3.dot(self.h(a2.T, \"hidden\"))\n",
    "                dW2 = delta2.dot(self.h(a1.T, \"hidden\"))\n",
    "                dW1 = delta1.dot(self.h(x.T, \"hidden\"))\n",
    "                \n",
    "                db3 = delta3.mean(axis=1, keepdims=True)\n",
    "                db2 = delta2.mean(axis=1, keepdims=True)\n",
    "                db1 = delta1.mean(axis=1, keepdims=True)\n",
    "                \n",
    "                parameters = [self.W1, self.W2, self.W3, self.b1, self.b2, self.b3]\n",
    "                grads = [dW1, dW2, dW3, db1, db2, db3]\n",
    "\n",
    "                for param, grad in zip(parameters, grads):\n",
    "                    param -= self.lr * grad\n",
    "\n",
    "            pred_test = self.forward(x_test.T)\n",
    "            onehot_test = self.one_hot(y_test)\n",
    "            test_loss = self.compute_loss(pred_test, onehot_test)\n",
    "\n",
    "            loss_test.append(test_loss / size_test)\n",
    "            loss_train.append(epoch_loss / size_train)\n",
    "\n",
    "        return loss_train, loss_test"
   ]
  },
  {
   "cell_type": "markdown",
   "metadata": {},
   "source": [
    "## Data loading"
   ]
  },
  {
   "cell_type": "code",
   "execution_count": 3,
   "metadata": {},
   "outputs": [
    {
     "data": {
      "image/png": "[encoded data removed]",
      "text/plain": [
       "<Figure size 432x288 with 1 Axes>"
      ]
     },
     "metadata": {
      "needs_background": "light"
     },
     "output_type": "display_data"
    }
   ],
   "source": [
    "x_data, y_data = make_blobs(n_samples = 800, centers=4, random_state=8888)\n",
    "# x_data, y_data = make_moons(n_samples = 800, noise=0.05)\n",
    "\n",
    "# normalize\n",
    "x_data = x_data / np.abs(x_data).max()\n",
    "\n",
    "size_data = len(x_data)\n",
    "size_train = int(0.75 * size_data)\n",
    "\n",
    "ix = np.arange(size_data)\n",
    "np.random.shuffle(ix)\n",
    "\n",
    "x_train = x_data[ix[:size_train]]\n",
    "y_train = y_data[ix[:size_train]]\n",
    "\n",
    "x_test = x_data[ix[size_train:]]\n",
    "y_test = y_data[ix[size_train:]]\n",
    "\n",
    "plt.scatter(x_data[:, 0], x_data[:, 1], c=y_data)\n",
    "plt.title(\"dataset\")\n",
    "plt.show()"
   ]
  },
  {
   "cell_type": "markdown",
   "metadata": {},
   "source": [
    "## Training"
   ]
  },
  {
   "cell_type": "code",
   "execution_count": 4,
   "metadata": {},
   "outputs": [
    {
     "name": "stderr",
     "output_type": "stream",
     "text": [
      "training: 100%|██████████| 500/500 [00:03<00:00, 146.22it/s]\n"
     ]
    }
   ],
   "source": [
    "model = Network()\n",
    "loss_train, loss_test = model.train(x_train, y_train, x_test, y_test)"
   ]
  },
  {
   "cell_type": "code",
   "execution_count": 5,
   "metadata": {},
   "outputs": [
    {
     "data": {
      "image/png": "[encoded data removed]",
      "text/plain": [
       "<Figure size 432x288 with 1 Axes>"
      ]
     },
     "metadata": {
      "needs_background": "light"
     },
     "output_type": "display_data"
    }
   ],
   "source": [
    "plt.plot(loss_train, label=\"train\")\n",
    "plt.plot(loss_test, label=\"test\")\n",
    "plt.legend()\n",
    "plt.title(\"loss/sample\")\n",
    "plt.xlabel(\"epoch\")\n",
    "plt.show()"
   ]
  },
  {
   "cell_type": "markdown",
   "metadata": {},
   "source": [
    "## Decision boundaries"
   ]
  },
  {
   "cell_type": "code",
   "execution_count": 6,
   "metadata": {},
   "outputs": [
    {
     "data": {
      "image/png": "[encoded data removed]",
      "text/plain": [
       "<Figure size 432x288 with 1 Axes>"
      ]
     },
     "metadata": {
      "needs_background": "light"
     },
     "output_type": "display_data"
    }
   ],
   "source": [
    "points = 100\n",
    "\n",
    "x = np.linspace(x_test[:,1].min(), x_test[:,1].max(), points)\n",
    "y = np.linspace(x_test[:,0].min(), x_test[:,0].max(), points)\n",
    "\n",
    "[X, Y] = np.meshgrid(x, y)\n",
    "C = np.zeros_like(X)\n",
    "\n",
    "for j in range(points):\n",
    "    for i in range(points):\n",
    "        xji = X[j][i]\n",
    "        yji = Y[j][i]\n",
    "        pred = model.forward(np.array([[yji, xji]]).T).argmax()\n",
    "        C[j][i] = pred\n",
    "        \n",
    "plt.scatter(Y, X, c=C)\n",
    "plt.scatter(x_test[:,0], x_test[:,1], c=\"gray\")\n",
    "plt.title(\"Decision boundaries\")\n",
    "plt.show()"
   ]
  },
  {
   "cell_type": "code",
   "execution_count": null,
   "metadata": {},
   "outputs": [],
   "source": []
  }
 ],
 "metadata": {
  "kernelspec": {
   "display_name": "Python 3",
   "language": "python",
   "name": "python3"
  },
  "language_info": {
   "codemirror_mode": {
    "name": "ipython",
    "version": 3
   },
   "file_extension": ".py",
   "mimetype": "text/x-python",
   "name": "python",
   "nbconvert_exporter": "python",
   "pygments_lexer": "ipython3",
   "version": "3.6.9"
  }
 },
 "nbformat": 4,
 "nbformat_minor": 4
}
